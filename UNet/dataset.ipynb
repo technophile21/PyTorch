{
 "cells": [
  {
   "cell_type": "code",
   "execution_count": 4,
   "metadata": {
    "collapsed": false
   },
   "outputs": [],
   "source": [
    "from __future__ import print_function\n",
    "import torch as tc\n",
    "from torch.utils.data import Dataset as Dataset\n",
    "\n",
    "import os\n",
    "\n",
    "from PIL import Image"
   ]
  },
  {
   "cell_type": "code",
   "execution_count": 9,
   "metadata": {
    "collapsed": true
   },
   "outputs": [],
   "source": [
    "EXTENSIONS = ['jpg', 'png']\n",
    "\n",
    "def img_basename(img_path):\n",
    "    return os.path.basename(os.path.splitext(img_path)[0])\n",
    "    \n",
    "def is_image(img_path):\n",
    "    ext = os.path.splitext(img_path)[1]\n",
    "    return any(ext == e for e in EXTENSIONS)\n",
    "    \n",
    "class VOC2012Dataset(Dataset):\n",
    "    def __init__(self, root_path, image_transform=None, label_transform=None):\n",
    "        super(VOC2012Dataset, self).__init__()\n",
    "        \n",
    "        self.root_path = root_path\n",
    "        self.images_path = os.path.join(root_path, 'images')\n",
    "        self.labels_path = os.path.join(root_path, 'labels')\n",
    "        \n",
    "        self.filenames = [img_basename(f) for f in os.listdir(self.images_path) if is_image(f)]\n",
    "        self.fiulenames.sort()\n",
    "        \n",
    "        #Assuming all are images\n",
    "        self.imageFileNames = os.listdir(self.images_path)\n",
    "        self.imageFileNames.sort()\n",
    "        \n",
    "        self.labelFileNames = os.listdir(self.labels_path)\n",
    "        self.labelFileNames.sort()\n",
    "        \n",
    "        self.image_transform = image_transform\n",
    "        self.label_transform = label_transform\n",
    "    \n",
    "    def __getitem__(self, index):\n",
    "        \n",
    "        image_name = self.filenames[index]\n",
    "        image = Image.open(os.path.join(self.images_path, image_name + '.jpg'), 'r')\n",
    "        image = image.convert('RGB')\n",
    "        \n",
    "        label = Image.open(os.path.join(self.labels_path, image_name + '.png'), 'r')\n",
    "        label = label.convert('P')\n",
    "        \n",
    "        if self.image_transform is not None:\n",
    "            image = self.image_transform(image)\n",
    "        if self.label_transform is not None:\n",
    "            label = self.label_transform(label)\n",
    "            \n",
    "        return image, label\n",
    "    \n",
    "    def __len__(self):\n",
    "        return len(self.imageFileNames)\n",
    "\n",
    "    "
   ]
  },
  {
   "cell_type": "code",
   "execution_count": null,
   "metadata": {
    "collapsed": true
   },
   "outputs": [],
   "source": []
  }
 ],
 "metadata": {
  "kernelspec": {
   "display_name": "Python (pytorch27)",
   "language": "python",
   "name": "pytorch2.7"
  },
  "language_info": {
   "codemirror_mode": {
    "name": "ipython",
    "version": 2
   },
   "file_extension": ".py",
   "mimetype": "text/x-python",
   "name": "python",
   "nbconvert_exporter": "python",
   "pygments_lexer": "ipython2",
   "version": "2.7.13"
  }
 },
 "nbformat": 4,
 "nbformat_minor": 2
}
