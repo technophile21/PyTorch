{
 "cells": [
  {
   "cell_type": "code",
   "execution_count": null,
   "metadata": {
    "collapsed": true
   },
   "outputs": [],
   "source": [
    "from __future__ import print_function"
   ]
  },
  {
   "cell_type": "code",
   "execution_count": null,
   "metadata": {
    "collapsed": true
   },
   "outputs": [],
   "source": [
    "import torch as tc\n",
    "import torch.nn as nn\n",
    "import torch.nn.functional as F\n"
   ]
  },
  {
   "cell_type": "code",
   "execution_count": null,
   "metadata": {
    "collapsed": false
   },
   "outputs": [],
   "source": [
    "class EncoderStack(nn.Module):\n",
    "    def __init__(self, in_ch, out_ch, kernel_size, padding=0, stride=1):\n",
    "        super(EncoderStack, self).__init__()\n",
    "        \n",
    "        self.conv1 = nn.conv2D(in_ch, out_ch, kernel_size, stride, padding)\n",
    "        self.conv2 = nn.conv2D(out_ch, out_ch, kernel_size, stride, padding)\n",
    "        self.maxPool = nn.MaxPool2D(2, 2)\n",
    "        \n",
    "    def forward(self, input):\n",
    "        x = self.conv1(input)\n",
    "        x = F.relu(x)\n",
    "        x = self.conv2(x)\n",
    "        x = F.relu(x)\n",
    "        conv_saved = x\n",
    "        x = seslf.maxPool(x)\n",
    "        return x, conv_saved"
   ]
  },
  {
   "cell_type": "code",
   "execution_count": null,
   "metadata": {
    "collapsed": true
   },
   "outputs": [],
   "source": [
    "class DecoderStack(nn.Module):\n",
    "    def __init__(self, in_ch, out_ch, kernel_size, upsample_size, padding=0, stride=1):\n",
    "        super(DecoderStack, self).__init__()\n",
    "        \n",
    "        self.upsample = nn.upsample(upsample_size, scale=2, mode='bilinear')\n",
    "        self.conv1 = nn.conv2D(in_ch, out_ch, kernel_size, stride, padding)\n",
    "        self.conv2 = nn.conv2D(out_ch, out_ch, kernel_size, stride, padding)\n",
    "        \n",
    "    \n",
    "    def _crop_concat(self, upsampled, bypass):\n",
    "        \"\"\"\n",
    "         Crop y to the (h, w) of x and concat them.\n",
    "         Used for the expansive path.\n",
    "        Returns:\n",
    "            The concatenated tensor\n",
    "        \"\"\"\n",
    "        c = (bypass.size()[2] - upsampled.size()[2]) // 2\n",
    "        bypass = F.pad(bypass, (-c, -c, -c, -c))\n",
    "\n",
    "        return torch.cat((upsampled, bypass), 1)\n",
    "    \n",
    "    def forward(self, input, bypass):\n",
    "        x = self.upsample(input)\n",
    "        x = self._crop_concat(x, bypass)\n",
    "        x = F.relu(self.conv1(x))\n",
    "        x = F.relu(self.conv2(x))\n",
    "        return x    "
   ]
  },
  {
   "cell_type": "code",
   "execution_count": null,
   "metadata": {
    "collapsed": true
   },
   "outputs": [],
   "source": [
    "class UNet(nn.Module):\n",
    "    def __init__(self, in_shape):\n",
    "        super(UNet, self).__init__()\n",
    "        \n",
    "        channels, width, height = in_shape\n",
    "        \n",
    "        self.enc1 = EncoderStack(3, 64, 3)\n",
    "        self.enc2 = EncoderStack(64, 128, 3)\n",
    "        self.enc3 = EncoderStack(128, 256, 3)\n",
    "        self.enc4 = EncoderStack(256, 512, 3)\n",
    "        \n",
    "        self.center = nn.Sequential(\n",
    "            EncoderStack(512, 1024, kernel_size=3),\n",
    "            EncoderStack(1024, 1024, kernel_size=3)\n",
    "        )\n",
    "        \n",
    "        self.dec1 = DecoderStack(1024, 512, 3, 56)\n",
    "        self.dec1 = DecoderStack(512, 256, 3, 104)\n",
    "        self.dec1 = DecoderStack(256, 128, 3, 200)\n",
    "        self.dec1 = DecoderStack(128, 64, 3, 392)\n",
    "        \n",
    "        self.conv = nn.conv2D(64, 2, 1)\n",
    "        \n",
    "    def forward(self, inp):\n",
    "        x, enc_saved1 = self.enc1(inp)\n",
    "        x, enc_saved2 = self.enc2(x)\n",
    "        x, enc_saved3 = self.enc3(x)\n",
    "        x, enc_saved4 = self.enc4(x)\n",
    "        x = self.center(x)\n",
    "        x = self.dec1(x, enc_saved4)\n",
    "        x = self.dec2(x, enc_saved3)\n",
    "        x = self.dec3(x, enc_saved2)\n",
    "        x = self.dec4(x, enc_saved1)\n",
    "        x = self.conv(x)\n",
    "        return x\n",
    "    "
   ]
  },
  {
   "cell_type": "code",
   "execution_count": null,
   "metadata": {
    "collapsed": true
   },
   "outputs": [],
   "source": []
  }
 ],
 "metadata": {
  "kernelspec": {
   "display_name": "Python (pytorch27)",
   "language": "python",
   "name": "pytorch2.7"
  },
  "language_info": {
   "codemirror_mode": {
    "name": "ipython",
    "version": 2
   },
   "file_extension": ".py",
   "mimetype": "text/x-python",
   "name": "python",
   "nbconvert_exporter": "python",
   "pygments_lexer": "ipython2",
   "version": "2.7.13"
  }
 },
 "nbformat": 4,
 "nbformat_minor": 2
}
