{
 "cells": [
  {
   "cell_type": "markdown",
   "metadata": {},
   "source": [
    "### Using Python 2.7"
   ]
  },
  {
   "cell_type": "code",
   "execution_count": null,
   "metadata": {
    "collapsed": true
   },
   "outputs": [],
   "source": [
    "from __future__ import print_function"
   ]
  },
  {
   "cell_type": "code",
   "execution_count": null,
   "metadata": {
    "collapsed": true
   },
   "outputs": [],
   "source": [
    "import torch as tc"
   ]
  },
  {
   "cell_type": "markdown",
   "metadata": {},
   "source": [
    "### Simple Multi Layer Perceptron"
   ]
  },
  {
   "cell_type": "code",
   "execution_count": null,
   "metadata": {
    "collapsed": true
   },
   "outputs": [],
   "source": [
    "batch_size = 64\n",
    "D_in = 1000\n",
    "D_h = 100  #hidden layer dimension\n",
    "D_out = 10\n",
    "\n",
    "data_i = tc.randn(batch_size, D_in)\n",
    "y = tc.randn(batch_size, D_out)    # output\n",
    "\n",
    "wts_1 = tc.randn(D_in, D_h)\n",
    "wts_2 = tc.randn(D_h, D_out)\n",
    "        "
   ]
  },
  {
   "cell_type": "code",
   "execution_count": null,
   "metadata": {
    "collapsed": true
   },
   "outputs": [],
   "source": [
    "zeros = tc.zeros(batch_size, D_h)\n",
    "learning_rate = 1e-06\n",
    "for i in range(500):\n",
    "    #Forward pass\n",
    "    h_in = tc.mm(data_i, wts_1)\n",
    "    h_relu = tc.max(h_in, zeros)     #element wise comparison \n",
    "    y_pred = tc.mm(h_relu, wts_2)\n",
    "    \n",
    "    #loss\n",
    "    loss = tc.sum(tc.pow((y_pred - y), 2))\n",
    "    print (\"Loss: \", i, loss)\n",
    "    \n",
    "    #backprop\n",
    "    grad_y_pred = 2.0 * (y_pred - y)\n",
    "    grad_w2 = tc.mm(tc.transpose(h_relu, 0, 1), grad_y_pred)\n",
    "    grad_h_relu = tc.mm(grad_y_pred, tc.transpose(wts_2, 0, 1))\n",
    "    grad_h = grad_h_relu.clone()\n",
    "    grad_h[h_in < 0] = 0\n",
    "    grad_w1 = tc.mm(tc.transpose(data_i, 0, 1), grad_h)\n",
    "    \n",
    "    wts_1 -= learning_rate * grad_w1\n",
    "    wts_2 -= learning_rate * grad_w2\n",
    "    "
   ]
  },
  {
   "cell_type": "code",
   "execution_count": null,
   "metadata": {
    "collapsed": true
   },
   "outputs": [],
   "source": []
  }
 ],
 "metadata": {
  "kernelspec": {
   "display_name": "Python (pytorch27)",
   "language": "python",
   "name": "pytorch2.7"
  },
  "language_info": {
   "codemirror_mode": {
    "name": "ipython",
    "version": 2
   },
   "file_extension": ".py",
   "mimetype": "text/x-python",
   "name": "python",
   "nbconvert_exporter": "python",
   "pygments_lexer": "ipython2",
   "version": "2.7.13"
  }
 },
 "nbformat": 4,
 "nbformat_minor": 2
}
