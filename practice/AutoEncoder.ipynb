{
 "cells": [
  {
   "cell_type": "markdown",
   "metadata": {},
   "source": [
    "## Auto Encoders "
   ]
  },
  {
   "cell_type": "code",
   "execution_count": null,
   "metadata": {
    "collapsed": true
   },
   "outputs": [],
   "source": [
    "from __future__ import print_function, division\n",
    "\n",
    "import torch\n",
    "import torch.nn as nn\n",
    "import torch.nn.functional as F\n",
    "import torch.optim as optim\n",
    "from torch.autograd import Variable\n",
    "import torchvision\n",
    "import torchvision.datasets as Datasets\n",
    "import torchvision.transforms as Transforms\n",
    "from torch.utils.data import DataLoader\n",
    "\n",
    "import matplotlib.pyplot as plt\n",
    "import numpy as np\n"
   ]
  },
  {
   "cell_type": "code",
   "execution_count": null,
   "metadata": {},
   "outputs": [],
   "source": [
    "#Load the data\n",
    "transform = Transforms.Compose([\n",
    "                Transforms.Scale(28),\n",
    "                Transforms.ToTensor(),\n",
    "            ])\n",
    "\n",
    "\n",
    "dataset = Datasets.MNIST('./data', download=False, transform=transform)\n",
    "dataloader = DataLoader(dataset, batch_size=256, num_workers=4)\n",
    "dataset_size = len(dataset)\n",
    "\n"
   ]
  },
  {
   "cell_type": "code",
   "execution_count": null,
   "metadata": {},
   "outputs": [],
   "source": [
    "#inspect some data\n",
    "\n",
    "def imshow(img, title=None):\n",
    "    img = img.numpy()\n",
    "    plt.imshow(np.transpose(img, [1,2,0]))\n",
    "    plt.show()\n",
    "    \n",
    "imgs, labels = next(iter(dataloader))\n",
    "print(imgs.shape)\n",
    "inp = torchvision.utils.make_grid(imgs)\n",
    "\n",
    "imshow(inp)"
   ]
  },
  {
   "cell_type": "code",
   "execution_count": null,
   "metadata": {},
   "outputs": [],
   "source": [
    "class Net(nn.Module):\n",
    "    def __init__(self):\n",
    "        super(Net, self).__init__()\n",
    "        \n",
    "        self.fc1 = nn.Linear(784, 32)\n",
    "        self.fc2 = nn.Linear(32, 784)\n",
    "        self.maxpool = nn.MaxPool1d(kernel_size=2)\n",
    "    \n",
    "    def forward(self, inp):\n",
    "        x = F.relu(self.fc1(inp))\n",
    "        x = self.fc2(x)\n",
    "        x = F.sigmoid(x)\n",
    "        return x\n",
    "\n",
    "net = Net()"
   ]
  },
  {
   "cell_type": "code",
   "execution_count": null,
   "metadata": {},
   "outputs": [],
   "source": [
    "import time\n",
    "\n",
    "loss_criterion = nn.MSELoss()\n",
    "optimizer = optim.Adadelta(net.parameters())\n",
    "\n",
    "num_epochs = 50\n",
    "for i in range(num_epochs):\n",
    "    \n",
    "    since = time.time()\n",
    "    \n",
    "    print('Epoch {}/{}'.format(i + 1, num_epochs))\n",
    "    running_loss = 0.0\n",
    "    processed = 0\n",
    "    to_process = dataset_size\n",
    "    running_loss_count = 1000\n",
    "    for data in dataloader:\n",
    "        imgs, labels = data\n",
    "\n",
    "        #print(imgs.shape)\n",
    "        imgs = imgs.view(-1, 784)\n",
    "        #print(imgs.shape)\n",
    "        imgs = Variable(imgs)\n",
    "        \n",
    "        optimizer.zero_grad()\n",
    "        \n",
    "        #forward pass\n",
    "        out = net(imgs)\n",
    "        \n",
    "        loss = loss_criterion(out, imgs)\n",
    "        running_loss += loss.data[0]\n",
    "        \n",
    "        loss.backward()\n",
    "        optimizer.step()\n",
    "        \n",
    "        processed += 1\n",
    "        \n",
    "        '''\n",
    "        if(processed % running_loss_count == 0):\n",
    "            print('Running Loss at samples {} : {}'.format(processed, running_loss))\n",
    "            running_loss = 0.0\n",
    "        '''\n",
    "            \n",
    "        if(processed == to_process):\n",
    "            break\n",
    "            \n",
    "    \n",
    "    print('Running Loss: {}'.format(running_loss))\n",
    "    time_elapsed = time.time() - since\n",
    "    print('Running time: {}m {}s'.format(time_elapsed // 60, time_elapsed % 60))\n",
    "    \n",
    "    if((i+1) % 5 == 0):\n",
    "        imgs, labels = next(iter(dataloader))\n",
    "        imgs = Variable(imgs)\n",
    "        imgs = imgs.view(-1, 784)\n",
    "        out = net(imgs)\n",
    "        out_t = out.data.view(-1, 1, 28, 28)\n",
    "        inp = torchvision.utils.make_grid(out_t)\n",
    "\n",
    "        imshow(inp)\n",
    "    "
   ]
  },
  {
   "cell_type": "code",
   "execution_count": null,
   "metadata": {
    "collapsed": true
   },
   "outputs": [],
   "source": []
  }
 ],
 "metadata": {
  "kernelspec": {
   "display_name": "Python (pytorch27)",
   "language": "python",
   "name": "pytorch2.7"
  },
  "language_info": {
   "codemirror_mode": {
    "name": "ipython",
    "version": 2
   },
   "file_extension": ".py",
   "mimetype": "text/x-python",
   "name": "python",
   "nbconvert_exporter": "python",
   "pygments_lexer": "ipython2",
   "version": "2.7.13"
  }
 },
 "nbformat": 4,
 "nbformat_minor": 2
}
